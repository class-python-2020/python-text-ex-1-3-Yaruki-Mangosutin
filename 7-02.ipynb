{
 "metadata": {
  "language_info": {
   "codemirror_mode": {
    "name": "ipython",
    "version": 3
   },
   "file_extension": ".py",
   "mimetype": "text/x-python",
   "name": "python",
   "nbconvert_exporter": "python",
   "pygments_lexer": "ipython3",
   "version": "3.8.2-final"
  },
  "orig_nbformat": 2,
  "kernelspec": {
   "name": "python_defaultSpec_1597403123983",
   "display_name": "Python 3.8.2 32-bit"
  }
 },
 "nbformat": 4,
 "nbformat_minor": 2,
 "cells": [
  {
   "cell_type": "code",
   "execution_count": 1,
   "metadata": {
    "tags": []
   },
   "outputs": [
    {
     "output_type": "stream",
     "name": "stdout",
     "text": "FileNotFoundError: (<class 'FileNotFoundError'>, FileNotFoundError(2, 'No such file or directory'), <traceback object at 0x06ABCD28>)\n"
    }
   ],
   "source": [
    "import sys\n",
    "try:\n",
    "    with open('test1.txt') as f:\n",
    "        s=f.readline()\n",
    "    print(s)\n",
    "\n",
    "except FileNotFoundError:\n",
    "    print('FileNotFoundError:',sys.exc_info())\n",
    "except IOError:\n",
    "    print('IOError:',sys.exc_info())\n",
    "except ValueError:\n",
    "    print('ValueError:',sys.exc_info())\n",
    "except OSError:\n",
    "    print('OSError:',sys.exc_info())\n",
    "    print('err:',err)\n",
    "except:\n",
    "    print('Unecpected Error:', sys.exc_info())"
   ]
  },
  {
   "cell_type": "code",
   "execution_count": 4,
   "metadata": {
    "tags": []
   },
   "outputs": [
    {
     "output_type": "stream",
     "name": "stdout",
     "text": ": (<class 'FileNotFoundError'>, FileNotFoundError(2, 'No such file or directory'), <traceback object at 0x014004E8>)\nerr: [Errno 2] No such file or directory: 'test1.txt'\n"
    }
   ],
   "source": [
    "try:\n",
    "    with open('test1.txt') as f:\n",
    "        s = f.readline()\n",
    "    print(s)\n",
    "except(FileNotFoundError, IOError, ValueError, OSError) as err:\n",
    "    print(':',sys.exc_info())\n",
    "    print('err:',err)\n",
    "except:\n",
    "    print('Unexpected Error:',sys.ecx_info())"
   ]
  },
  {
   "cell_type": "code",
   "execution_count": 5,
   "metadata": {
    "tags": []
   },
   "outputs": [
    {
     "output_type": "stream",
     "name": "stdout",
     "text": "FileNotFoundError: (<class 'FileNotFoundError'>, FileNotFoundError(2, 'No such file or directory'), <traceback object at 0x049A46A8>)\n"
    }
   ],
   "source": [
    "try:\n",
    "    with open('text.txt') as f:\n",
    "        s = f.readline()\n",
    "    print(s)\n",
    "except FileNotFoundError:\n",
    "    print('FileNotFoundError:',sys.exc_info())\n",
    "else:\n",
    "    print('Read File complete')"
   ]
  },
  {
   "cell_type": "code",
   "execution_count": 6,
   "metadata": {
    "tags": []
   },
   "outputs": [
    {
     "output_type": "stream",
     "name": "stdout",
     "text": "module 'datetime' has no attribute 'datatime'\n"
    }
   ],
   "source": [
    "import datetime\n",
    "try:\n",
    "    raise Exception('RaiseTest',datetime.datatime.now())\n",
    "except Exception as inst:\n",
    "    print(inst)"
   ]
  },
  {
   "cell_type": "code",
   "execution_count": 7,
   "metadata": {
    "tags": []
   },
   "outputs": [
    {
     "output_type": "stream",
     "name": "stdout",
     "text": "Unecxpected Error\nIndex Not Found\nSuccessfully\n"
    },
    {
     "output_type": "execute_result",
     "data": {
      "text/plain": "['b', 'c', 'd']"
     },
     "metadata": {},
     "execution_count": 7
    }
   ],
   "source": [
    "def list_del_nth(list_, index):\n",
    "    try:\n",
    "        del list_[index]\n",
    "    except IndexError:\n",
    "        print('Index Not Found')\n",
    "    except:\n",
    "        print('Unecxpected Error')\n",
    "    else:\n",
    "        print('Successfully')\n",
    "\n",
    "my_list = ['a','b','c','d']\n",
    "list_del_nth(my_list, '5')\n",
    "list_del_nth(my_list,5)\n",
    "list_del_nth(my_list,0)\n",
    "\n",
    "my_list"
   ]
  },
  {
   "cell_type": "code",
   "execution_count": 8,
   "metadata": {},
   "outputs": [
    {
     "output_type": "error",
     "ename": "SyntaxError",
     "evalue": "invalid syntax (<ipython-input-8-9c6da0c1ae3c>, line 7)",
     "traceback": [
      "\u001b[1;36m  File \u001b[1;32m\"<ipython-input-8-9c6da0c1ae3c>\"\u001b[1;36m, line \u001b[1;32m7\u001b[0m\n\u001b[1;33m    retrun x ** x\u001b[0m\n\u001b[1;37m           ^\u001b[0m\n\u001b[1;31mSyntaxError\u001b[0m\u001b[1;31m:\u001b[0m invalid syntax\n"
     ]
    }
   ],
   "source": [
    "def square(x):\n",
    "    if not isinstance(x, (int, float)):\n",
    "        if isinstance(x, str ) and x.isdigit():\n",
    "            x = int(x)\n",
    "        else:\n",
    "            raise ValueError('square', x)\n",
    "    retrun x ** x\n",
    "\n",
    "print(square(2))\n",
    "print(square('a'))"
   ]
  },
  {
   "cell_type": "code",
   "execution_count": 11,
   "metadata": {},
   "outputs": [
    {
     "output_type": "execute_result",
     "data": {
      "text/plain": "<function __main__.indexerr_test_func()>"
     },
     "metadata": {},
     "execution_count": 11
    }
   ],
   "source": [
    "def indexerr_test_func():\n",
    "    try:\n",
    "        my_lsit = [0, 1, 2, 3]\n",
    "        val = my_list[5]\n",
    "    except LookupError:\n",
    "        print('indexerr_test_func LookupError exception ')\n",
    "\n",
    "indexerr_test_func"
   ]
  },
  {
   "cell_type": "code",
   "execution_count": null,
   "metadata": {},
   "outputs": [],
   "source": []
  }
 ]
}